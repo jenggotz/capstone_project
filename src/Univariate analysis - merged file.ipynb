{
 "cells": [
  {
   "cell_type": "code",
   "execution_count": 72,
   "metadata": {},
   "outputs": [],
   "source": [
    "import pandas as pd\n",
    "import matplotlib.pyplot as plt\n",
    "import seaborn as sns\n",
    "from scipy import stats\n",
    "import numpy as np"
   ]
  },
  {
   "cell_type": "markdown",
   "metadata": {},
   "source": [
    "Read merged file containing all the attributes"
   ]
  },
  {
   "cell_type": "code",
   "execution_count": 73,
   "metadata": {},
   "outputs": [],
   "source": [
    "orig_merged_file = pd.read_csv('.\\Market_food_prices_w_temp_converted.csv')"
   ]
  },
  {
   "cell_type": "markdown",
   "metadata": {},
   "source": [
    "Encode commodity source to numeric value for plotting "
   ]
  },
  {
   "cell_type": "code",
   "execution_count": 74,
   "metadata": {},
   "outputs": [],
   "source": [
    "labels = orig_merged_file['commodity_source'].astype('category').cat.categories.tolist()\n",
    "replace_map_comp = {'commodity_source' : {k: v for k,v in zip(labels,list(range(1,len(labels)+1)))}}\n",
    "merged_file = orig_merged_file.copy()\n",
    "merged_file.replace(replace_map_comp, inplace=True)\n",
    "merged_file.to_csv('.\\Market_food_prices_w_temp_replaced_final.csv', index=False)"
   ]
  },
  {
   "cell_type": "code",
   "execution_count": 75,
   "metadata": {},
   "outputs": [
    {
     "name": "stdout",
     "output_type": "stream",
     "text": [
      "Merged file\n",
      "============================================================\n",
      "<class 'pandas.core.frame.DataFrame'>\n",
      "RangeIndex: 307901 entries, 0 to 307900\n",
      "Data columns (total 24 columns):\n",
      "country_id               307901 non-null int64\n",
      "country                  307901 non-null object\n",
      "locality_id              307901 non-null int64\n",
      "locality_name            302089 non-null object\n",
      "mkt_id                   307901 non-null int64\n",
      "mkt_name                 307901 non-null object\n",
      "commodity_purchase_id    307901 non-null int64\n",
      "currency_id              307901 non-null int64\n",
      "currency_name            307901 non-null object\n",
      "mkt_type_id              307901 non-null int64\n",
      "mkt_type                 307901 non-null object\n",
      "measurement_id           307901 non-null int64\n",
      "measurement_unit         307901 non-null object\n",
      "price_paid               307901 non-null float64\n",
      "commodity_source         307901 non-null int64\n",
      "measurement_const        307901 non-null float64\n",
      "measurement_unit_type    307901 non-null object\n",
      "commodity_purchased      307901 non-null object\n",
      "avg_temp                 307901 non-null float64\n",
      "avg_temp_uncty           307901 non-null float64\n",
      "period                   307901 non-null object\n",
      "price_in_USD             307901 non-null float64\n",
      "converted_const          307901 non-null float64\n",
      "converted_unit           307901 non-null object\n",
      "dtypes: float64(6), int64(8), object(10)\n",
      "memory usage: 56.4+ MB\n",
      "None\n",
      "============================================================\n",
      "Shape of the file\n",
      "============================================================\n",
      "(307901, 24)\n",
      "============================================================\n",
      "Unique values\n",
      "============================================================\n",
      "country_id                  61\n",
      "country                     61\n",
      "locality_id                394\n",
      "locality_name              379\n",
      "mkt_id                    1019\n",
      "mkt_name                  1005\n",
      "commodity_purchase_id       70\n",
      "currency_id                 51\n",
      "currency_name               50\n",
      "mkt_type_id                  4\n",
      "mkt_type                     4\n",
      "measurement_id              40\n",
      "measurement_unit            40\n",
      "price_paid               59760\n",
      "commodity_source           101\n",
      "measurement_const           25\n",
      "measurement_unit_type       18\n",
      "commodity_purchased         70\n",
      "avg_temp                  4988\n",
      "avg_temp_uncty             984\n",
      "period                     261\n",
      "price_in_USD             90269\n",
      "converted_const             34\n",
      "converted_unit               4\n",
      "dtype: int64\n",
      "============================================================\n",
      "Describe the file\n",
      "============================================================\n",
      "           country_id country    locality_id         locality_name  \\\n",
      "count   307901.000000  307901  307901.000000                302089   \n",
      "unique            NaN      61            NaN                   379   \n",
      "top               NaN  Rwanda            NaN  $West/Iburengerazuba   \n",
      "freq              NaN   55448            NaN                 13853   \n",
      "mean       664.831547     NaN   11511.548251                   NaN   \n",
      "std       4506.740422     NaN   19189.056345                   NaN   \n",
      "min          1.000000     NaN       0.000000                   NaN   \n",
      "25%        115.000000     NaN    1748.000000                   NaN   \n",
      "50%        170.000000     NaN    2206.000000                   NaN   \n",
      "75%        205.000000     NaN   21969.000000                   NaN   \n",
      "max      40765.000000     NaN  144969.000000                   NaN   \n",
      "\n",
      "               mkt_id          mkt_name  commodity_purchase_id    currency_id  \\\n",
      "count   307901.000000            307901          307901.000000  307901.000000   \n",
      "unique            NaN              1005                    NaN            NaN   \n",
      "top               NaN  National Average                    NaN            NaN   \n",
      "freq              NaN              5231                    NaN            NaN   \n",
      "mean       672.321750               NaN              55.121393      52.486403   \n",
      "std        383.105756               NaN              23.466256      21.638433   \n",
      "min        101.000000               NaN               1.000000      23.000000   \n",
      "25%        306.000000               NaN              48.000000      28.000000   \n",
      "50%        632.000000               NaN              56.000000      51.000000   \n",
      "75%        963.000000               NaN              71.000000      75.000000   \n",
      "max       1893.000000               NaN              92.000000      95.000000   \n",
      "\n",
      "       currency_name    mkt_type_id       ...       commodity_source  \\\n",
      "count         307901  307901.000000       ...          307901.000000   \n",
      "unique            50            NaN       ...                    NaN   \n",
      "top              XOF            NaN       ...                    NaN   \n",
      "freq           66685            NaN       ...                    NaN   \n",
      "mean             NaN      14.930422       ...              50.224108   \n",
      "std              NaN       0.308315       ...              24.857557   \n",
      "min              NaN      14.000000       ...               1.000000   \n",
      "25%              NaN      15.000000       ...              29.000000   \n",
      "50%              NaN      15.000000       ...              46.000000   \n",
      "75%              NaN      15.000000       ...              72.000000   \n",
      "max              NaN      18.000000       ...             101.000000   \n",
      "\n",
      "        measurement_const measurement_unit_type  commodity_purchased  \\\n",
      "count       307901.000000                307901               307901   \n",
      "unique                NaN                    18                   70   \n",
      "top                   NaN                    KG                 Rice   \n",
      "freq                  NaN                262908                51395   \n",
      "mean            29.630917                   NaN                  NaN   \n",
      "std            109.368173                   NaN                  NaN   \n",
      "min              1.000000                   NaN                  NaN   \n",
      "25%              1.000000                   NaN                  NaN   \n",
      "50%              1.000000                   NaN                  NaN   \n",
      "75%              1.000000                   NaN                  NaN   \n",
      "max            750.000000                   NaN                  NaN   \n",
      "\n",
      "             avg_temp  avg_temp_uncty      period   price_in_USD  \\\n",
      "count   307901.000000   307901.000000      307901  307901.000000   \n",
      "unique            NaN             NaN         261            NaN   \n",
      "top               NaN             NaN  2013-07-01            NaN   \n",
      "freq              NaN             NaN        7174            NaN   \n",
      "mean        23.020193        0.461686         NaN      15.196236   \n",
      "std          7.772100        0.263610         NaN     624.204527   \n",
      "min        -17.164000        0.067000         NaN       0.000515   \n",
      "25%         19.985000        0.290000         NaN       0.216537   \n",
      "50%         24.501000        0.400000         NaN       0.356906   \n",
      "75%         27.832000        0.562000         NaN       0.645309   \n",
      "max         36.398000        3.260000         NaN   72706.651945   \n",
      "\n",
      "        converted_const  converted_unit  \n",
      "count     307901.000000          307901  \n",
      "unique              NaN               4  \n",
      "top                 NaN              kg  \n",
      "freq                NaN          284858  \n",
      "mean           8.913208             NaN  \n",
      "std           57.849109             NaN  \n",
      "min            0.085000             NaN  \n",
      "25%            1.000000             NaN  \n",
      "50%            1.000000             NaN  \n",
      "75%            1.000000             NaN  \n",
      "max         1000.000000             NaN  \n",
      "\n",
      "[11 rows x 24 columns]\n",
      "============================================================\n",
      "Check if there are missing values\n",
      "country_id                  0\n",
      "country                     0\n",
      "locality_id                 0\n",
      "locality_name            5812\n",
      "mkt_id                      0\n",
      "mkt_name                    0\n",
      "commodity_purchase_id       0\n",
      "currency_id                 0\n",
      "currency_name               0\n",
      "mkt_type_id                 0\n",
      "mkt_type                    0\n",
      "measurement_id              0\n",
      "measurement_unit            0\n",
      "price_paid                  0\n",
      "commodity_source            0\n",
      "measurement_const           0\n",
      "measurement_unit_type       0\n",
      "commodity_purchased         0\n",
      "avg_temp                    0\n",
      "avg_temp_uncty              0\n",
      "period                      0\n",
      "price_in_USD                0\n",
      "converted_const             0\n",
      "converted_unit              0\n",
      "dtype: int64\n",
      "============================================================\n"
     ]
    }
   ],
   "source": [
    "print(\"Merged file\")\n",
    "print(\"=\"*60)\n",
    "print(merged_file.info())\n",
    "print(\"=\"*60)\n",
    "print(\"Shape of the file\")\n",
    "print(\"=\"*60)\n",
    "print(merged_file.shape)\n",
    "print(\"=\"*60)\n",
    "print(\"Unique values\")\n",
    "print(\"=\"*60)\n",
    "print(merged_file.nunique())\n",
    "print(\"=\"*60)\n",
    "print(\"Describe the file\")\n",
    "print(\"=\"*60)\n",
    "print(merged_file.describe(include='all'))\n",
    "print(\"=\"*60)\n",
    "print(\"Check if there are missing values\")\n",
    "print(merged_file.isnull().sum())\n",
    "print(\"=\"*60)"
   ]
  },
  {
   "cell_type": "code",
   "execution_count": 76,
   "metadata": {},
   "outputs": [
    {
     "name": "stderr",
     "output_type": "stream",
     "text": [
      "C:\\Users\\Janelle\\Anaconda3\\lib\\site-packages\\scipy\\stats\\stats.py:1713: FutureWarning: Using a non-tuple sequence for multidimensional indexing is deprecated; use `arr[tuple(seq)]` instead of `arr[seq]`. In the future this will be interpreted as an array index, `arr[np.array(seq)]`, which will result either in an error or a different result.\n",
      "  return np.add.reduce(sorted[indexer] * weights, axis=axis) / sumval\n"
     ]
    },
    {
     "data": {
      "text/plain": [
       "<matplotlib.axes._subplots.AxesSubplot at 0x27102bf7240>"
      ]
     },
     "execution_count": 76,
     "metadata": {},
     "output_type": "execute_result"
    },
    {
     "data": {
      "image/png": "[encoded data removed]",
      "text/plain": [
       "<Figure size 432x288 with 1 Axes>"
      ]
     },
     "metadata": {
      "needs_background": "light"
     },
     "output_type": "display_data"
    }
   ],
   "source": [
    "sns.distplot(merged_file['avg_temp'], hist=True)"
   ]
  },
  {
   "cell_type": "code",
   "execution_count": 77,
   "metadata": {},
   "outputs": [
    {
     "name": "stderr",
     "output_type": "stream",
     "text": [
      "C:\\Users\\Janelle\\Anaconda3\\lib\\site-packages\\scipy\\stats\\stats.py:1713: FutureWarning: Using a non-tuple sequence for multidimensional indexing is deprecated; use `arr[tuple(seq)]` instead of `arr[seq]`. In the future this will be interpreted as an array index, `arr[np.array(seq)]`, which will result either in an error or a different result.\n",
      "  return np.add.reduce(sorted[indexer] * weights, axis=axis) / sumval\n"
     ]
    },
    {
     "data": {
      "text/plain": [
       "<matplotlib.axes._subplots.AxesSubplot at 0x27102bf7dd8>"
      ]
     },
     "execution_count": 77,
     "metadata": {},
     "output_type": "execute_result"
    },
    {
     "data": {
      "image/png": "[encoded data removed]",
      "text/plain": [
       "<Figure size 432x288 with 1 Axes>"
      ]
     },
     "metadata": {
      "needs_background": "light"
     },
     "output_type": "display_data"
    }
   ],
   "source": [
    "sns.distplot(merged_file['avg_temp_uncty'], hist=True)"
   ]
  },
  {
   "cell_type": "code",
   "execution_count": 78,
   "metadata": {},
   "outputs": [
    {
     "name": "stderr",
     "output_type": "stream",
     "text": [
      "C:\\Users\\Janelle\\Anaconda3\\lib\\site-packages\\scipy\\stats\\stats.py:1713: FutureWarning: Using a non-tuple sequence for multidimensional indexing is deprecated; use `arr[tuple(seq)]` instead of `arr[seq]`. In the future this will be interpreted as an array index, `arr[np.array(seq)]`, which will result either in an error or a different result.\n",
      "  return np.add.reduce(sorted[indexer] * weights, axis=axis) / sumval\n"
     ]
    },
    {
     "data": {
      "text/plain": [
       "<matplotlib.axes._subplots.AxesSubplot at 0x2710100d7f0>"
      ]
     },
     "execution_count": 78,
     "metadata": {},
     "output_type": "execute_result"
    },
    {
     "data": {
      "image/png": "[encoded data removed]",
      "text/plain": [
       "<Figure size 432x288 with 1 Axes>"
      ]
     },
     "metadata": {
      "needs_background": "light"
     },
     "output_type": "display_data"
    }
   ],
   "source": [
    "sns.distplot(merged_file['price_in_USD'], hist=True)"
   ]
  },
  {
   "cell_type": "code",
   "execution_count": 79,
   "metadata": {},
   "outputs": [
    {
     "name": "stderr",
     "output_type": "stream",
     "text": [
      "C:\\Users\\Janelle\\Anaconda3\\lib\\site-packages\\scipy\\stats\\stats.py:1713: FutureWarning: Using a non-tuple sequence for multidimensional indexing is deprecated; use `arr[tuple(seq)]` instead of `arr[seq]`. In the future this will be interpreted as an array index, `arr[np.array(seq)]`, which will result either in an error or a different result.\n",
      "  return np.add.reduce(sorted[indexer] * weights, axis=axis) / sumval\n"
     ]
    },
    {
     "data": {
      "image/png": "[encoded data removed]",
      "text/plain": [
       "<Figure size 432x288 with 1 Axes>"
      ]
     },
     "metadata": {
      "needs_background": "light"
     },
     "output_type": "display_data"
    }
   ],
   "source": [
    "ax = sns.distplot(merged_file['mkt_type_id'] )"
   ]
  },
  {
   "cell_type": "code",
   "execution_count": 80,
   "metadata": {},
   "outputs": [
    {
     "name": "stderr",
     "output_type": "stream",
     "text": [
      "C:\\Users\\Janelle\\Anaconda3\\lib\\site-packages\\scipy\\stats\\stats.py:1713: FutureWarning: Using a non-tuple sequence for multidimensional indexing is deprecated; use `arr[tuple(seq)]` instead of `arr[seq]`. In the future this will be interpreted as an array index, `arr[np.array(seq)]`, which will result either in an error or a different result.\n",
      "  return np.add.reduce(sorted[indexer] * weights, axis=axis) / sumval\n"
     ]
    },
    {
     "data": {
      "image/png": "[encoded data removed]",
      "text/plain": [
       "<Figure size 432x288 with 1 Axes>"
      ]
     },
     "metadata": {
      "needs_background": "light"
     },
     "output_type": "display_data"
    }
   ],
   "source": [
    "plt.figure()\n",
    "ax = sns.distplot(merged_file_replace['commodity_source'] , hist=True)"
   ]
  },
  {
   "cell_type": "markdown",
   "metadata": {},
   "source": [
    "Chi-squared test for independence"
   ]
  },
  {
   "cell_type": "code",
   "execution_count": 81,
   "metadata": {},
   "outputs": [
    {
     "data": {
      "text/plain": [
       "(18661514.848281886, 0.0, 307900)"
      ]
     },
     "execution_count": 81,
     "metadata": {},
     "output_type": "execute_result"
    }
   ],
   "source": [
    "max_row = len(merged_file_replace)\n",
    "chi2_chk = np.array([merged_file_replace['mkt_type_id'][0:max_row].values,\n",
    "                  merged_file_replace['country_id'][0:max_row].values])\n",
    "stats.chi2_contingency(chi2_chk)[0:3]"
   ]
  },
  {
   "cell_type": "code",
   "execution_count": 82,
   "metadata": {},
   "outputs": [
    {
     "data": {
      "text/plain": [
       "(56310776.3253108, 0.0, 307900)"
      ]
     },
     "execution_count": 82,
     "metadata": {},
     "output_type": "execute_result"
    }
   ],
   "source": [
    "chi2_chk = np.array([merged_file_replace['commodity_source'][0:max_row].values,\n",
    "                  merged_file_replace['country_id'][0:max_row].values])\n",
    "stats.chi2_contingency(chi2_chk)[0:3]"
   ]
  },
  {
   "cell_type": "code",
   "execution_count": 83,
   "metadata": {},
   "outputs": [
    {
     "data": {
      "text/plain": [
       "(48246612.90390645, 0.0, 307900)"
      ]
     },
     "execution_count": 83,
     "metadata": {},
     "output_type": "execute_result"
    }
   ],
   "source": [
    "chi2_chk = np.array([merged_file_replace['commodity_purchase_id'][0:max_row].values,\n",
    "                  merged_file_replace['country_id'][0:max_row].values])\n",
    "stats.chi2_contingency(chi2_chk)[0:3]"
   ]
  },
  {
   "cell_type": "code",
   "execution_count": null,
   "metadata": {},
   "outputs": [],
   "source": []
  }
 ],
 "metadata": {
  "kernelspec": {
   "display_name": "Python 3",
   "language": "python",
   "name": "python3"
  },
  "language_info": {
   "codemirror_mode": {
    "name": "ipython",
    "version": 3
   },
   "file_extension": ".py",
   "mimetype": "text/x-python",
   "name": "python",
   "nbconvert_exporter": "python",
   "pygments_lexer": "ipython3",
   "version": "3.7.0"
  }
 },
 "nbformat": 4,
 "nbformat_minor": 2
}
