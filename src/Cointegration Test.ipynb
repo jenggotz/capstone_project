{
 "cells": [
  {
   "cell_type": "markdown",
   "metadata": {},
   "source": [
    "## This script is to check the stationarity of the multivariate time series using Johansen Cointegration test "
   ]
  },
  {
   "cell_type": "code",
   "execution_count": 11,
   "metadata": {},
   "outputs": [],
   "source": [
    "from statsmodels.tsa.vector_ar.vecm import coint_johansen\n",
    "import pandas as pd"
   ]
  },
  {
   "cell_type": "code",
   "execution_count": 12,
   "metadata": {},
   "outputs": [],
   "source": [
    "df = pd.read_csv('.\\Market_food_prices_w_temp_reduced.csv')\n",
    "country_dict = dict(zip(df.country_id,df.country))\n",
    "cols = ['country', 'commodity_purchased']\n",
    "df.drop(cols, axis=1, inplace=True)"
   ]
  },
  {
   "cell_type": "markdown",
   "metadata": {},
   "source": [
    "Print Cointegration test per country"
   ]
  },
  {
   "cell_type": "code",
   "execution_count": 14,
   "metadata": {},
   "outputs": [
    {
     "name": "stdout",
     "output_type": "stream",
     "text": [
      "script finish...\n"
     ]
    }
   ],
   "source": [
    "text_file1 = open(\".\\Cointegration-Test-Multivariate.doc\", \"w\")\n",
    "\n",
    "for key, value in country_dict.items():\n",
    "    df_country = pd.read_csv('.\\countries\\country_df_'+ value +'.csv')\n",
    "    drop_cols = ['country_id', 'country', 'commodity_purchased']\n",
    "    df_country.drop(drop_cols, axis=1, inplace=True)\n",
    "    df_country['period'] = pd.to_datetime(df_country.period , format = '%Y-%m-%d')\n",
    "    data_country = df_country.drop(['period'], axis=1)\n",
    "    data_country.index = df_country.period\n",
    "    print('*'*70, file=text_file1)\n",
    "    print(str(value), file=text_file1)\n",
    "    print('*' * 70, file=text_file1)\n",
    "    result = coint_johansen(data_country,-1,1)\n",
    "    print('-' * 70, file=text_file1)\n",
    "    print('Trace Statistics (whether the sum of the eigenvalues is 0)', file=text_file1)\n",
    "    print('variable statistic Crit-90% Crit-95%  Crit-99%', file=text_file1)\n",
    "    for i in range(len(result.lr1)):\n",
    "        print('r <=', i, '\\t', round(result.lr1[i], 4), result.cvt[i, 0], result.cvt[i, 1], result.cvt[i, 2],\n",
    "              file=text_file1)\n",
    "    print('-' * 70, file=text_file1)\n",
    "    print('Eigen Statistics (how strongly cointegrated the series are or how strong is the tendency to mean revert)',\n",
    "          file=text_file1)\n",
    "    print('variable statistic Crit-90% Crit-95%  Crit-99%', file=text_file1)\n",
    "    for i in range(len(result.lr2)):\n",
    "        print('r <=', i, '\\t', round(result.lr2[i], 4), result.cvm[i, 0], result.cvm[i, 1], result.cvm[i, 2],\n",
    "              file=text_file1)\n",
    "    if (round(result.lr1[1], 4) > result.cvt[i, 1]):\n",
    "        print('Stat > Critical Value (95%) then reject the null hypothesis: Series is cointegrated', file=text_file1)\n",
    "    else:\n",
    "        print('Stat <= Critical Value (95%) then accept the null hypothesis: Series is not cointegrated',\n",
    "                  file=text_file1)\n",
    "    print('-' * 70, file=text_file1)\n",
    "    print('eigenvectors:\\n', result.evec, file=text_file1)\n",
    "    print('-' * 70, file=text_file1)\n",
    "    print('eigenvalues:\\n', result.eig, file=text_file1)\n",
    "    print('-' * 70, file=text_file1)\n",
    "    \n",
    "print('script finish...')"
   ]
  }
 ],
 "metadata": {
  "kernelspec": {
   "display_name": "Python 3",
   "language": "python",
   "name": "python3"
  },
  "language_info": {
   "codemirror_mode": {
    "name": "ipython",
    "version": 3
   },
   "file_extension": ".py",
   "mimetype": "text/x-python",
   "name": "python",
   "nbconvert_exporter": "python",
   "pygments_lexer": "ipython3",
   "version": "3.7.0"
  }
 },
 "nbformat": 4,
 "nbformat_minor": 2
}
