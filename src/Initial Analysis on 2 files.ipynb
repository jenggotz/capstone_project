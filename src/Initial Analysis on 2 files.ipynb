{
 "cells": [
  {
   "cell_type": "code",
   "execution_count": 6,
   "metadata": {},
   "outputs": [],
   "source": [
    "import pandas as pd\n",
    "import matplotlib.pyplot as plt\n",
    "import seaborn as sns"
   ]
  },
  {
   "cell_type": "markdown",
   "metadata": {},
   "source": [
    "Read the 2 files \n",
    "1) Temperature by country csv file\n",
    "2) Global food prices csv file"
   ]
  },
  {
   "cell_type": "code",
   "execution_count": 7,
   "metadata": {},
   "outputs": [],
   "source": [
    "global_temp = pd.read_csv('.\\GlobalLandTemperaturesByCountry.csv')\n",
    "global_temp.columns = ['full_date', 'avg_temp', 'avg_temp_uncty','country']\n",
    "\n",
    "global_food_prices = pd.read_csv('.\\wfp_market_food_prices.csv', sep=',', encoding='iso-8859-1')\n",
    "global_food_prices.columns = ['country_id',\t'country', 'locality_id', 'locality_name', 'mkt_id', 'mkt_name', 'commodity_purchase_id',\n",
    "                              'commodity_purchased', 'currency_id', 'currency_name', 'mkt_type_id', 'mkt_type',\n",
    "                              'measurement_id',\t'measurement_unit',\t'month', 'year', 'price_paid', 'commodity_source']"
   ]
  },
  {
   "cell_type": "markdown",
   "metadata": {},
   "source": [
    "Print the no. of rows and columns \n",
    "Print the no. of unique values in each column"
   ]
  },
  {
   "cell_type": "code",
   "execution_count": 8,
   "metadata": {
    "scrolled": true
   },
   "outputs": [
    {
     "name": "stdout",
     "output_type": "stream",
     "text": [
      "Global Temp df\n",
      "<class 'pandas.core.frame.DataFrame'>\n",
      "RangeIndex: 577462 entries, 0 to 577461\n",
      "Data columns (total 4 columns):\n",
      "full_date         577462 non-null object\n",
      "avg_temp          544811 non-null float64\n",
      "avg_temp_uncty    545550 non-null float64\n",
      "country           577462 non-null object\n",
      "dtypes: float64(2), object(2)\n",
      "memory usage: 17.6+ MB\n",
      "None\n",
      "(577462, 4)\n",
      "full_date          3239\n",
      "avg_temp          76605\n",
      "avg_temp_uncty     8979\n",
      "country             243\n",
      "dtype: int64\n",
      "============================================================\n",
      "Global Food Prices df\n",
      "<class 'pandas.core.frame.DataFrame'>\n",
      "RangeIndex: 743914 entries, 0 to 743913\n",
      "Data columns (total 18 columns):\n",
      "country_id               743914 non-null int64\n",
      "country                  743914 non-null object\n",
      "locality_id              743914 non-null int64\n",
      "locality_name            729965 non-null object\n",
      "mkt_id                   743914 non-null int64\n",
      "mkt_name                 743914 non-null object\n",
      "commodity_purchase_id    743914 non-null int64\n",
      "commodity_purchased      743914 non-null object\n",
      "currency_id              743914 non-null int64\n",
      "currency_name            743914 non-null object\n",
      "mkt_type_id              743914 non-null int64\n",
      "mkt_type                 743914 non-null object\n",
      "measurement_id           743914 non-null int64\n",
      "measurement_unit         743914 non-null object\n",
      "month                    743914 non-null int64\n",
      "year                     743914 non-null int64\n",
      "price_paid               743914 non-null float64\n",
      "commodity_source         743914 non-null object\n",
      "dtypes: float64(1), int64(9), object(8)\n",
      "memory usage: 102.2+ MB\n",
      "None\n",
      "(743914, 18)\n",
      "country_id                   74\n",
      "country                      74\n",
      "locality_id                 605\n",
      "locality_name               588\n",
      "mkt_id                     1471\n",
      "mkt_name                   1449\n",
      "commodity_purchase_id       321\n",
      "commodity_purchased         321\n",
      "currency_id                  61\n",
      "currency_name                61\n",
      "mkt_type_id                   4\n",
      "mkt_type                      4\n",
      "measurement_id               62\n",
      "measurement_unit             62\n",
      "month                        12\n",
      "year                         26\n",
      "price_paid               113564\n",
      "commodity_source            248\n",
      "dtype: int64\n"
     ]
    }
   ],
   "source": [
    "print(\"Global Temp df\")\n",
    "print(global_temp.info())\n",
    "print(global_temp.shape)\n",
    "print(global_temp.nunique())\n",
    "print(\"=\"*60)\n",
    "print(\"Global Food Prices df\")\n",
    "print(global_food_prices.info())\n",
    "print(global_food_prices.shape)\n",
    "print(global_food_prices.nunique())"
   ]
  },
  {
   "cell_type": "markdown",
   "metadata": {},
   "source": [
    "Describe the columns in the file"
   ]
  },
  {
   "cell_type": "code",
   "execution_count": 9,
   "metadata": {},
   "outputs": [
    {
     "name": "stdout",
     "output_type": "stream",
     "text": [
      "Global Temp df\n",
      "         full_date       avg_temp  avg_temp_uncty  country\n",
      "count       577462  544811.000000   545550.000000   577462\n",
      "unique        3239            NaN             NaN      243\n",
      "top     1961-02-01            NaN             NaN  Belgium\n",
      "freq           243            NaN             NaN     3239\n",
      "mean           NaN      17.193354        1.019057      NaN\n",
      "std            NaN      10.953966        1.201930      NaN\n",
      "min            NaN     -37.658000        0.052000      NaN\n",
      "25%            NaN      10.025000        0.323000      NaN\n",
      "50%            NaN      20.901000        0.571000      NaN\n",
      "75%            NaN      25.814000        1.206000      NaN\n",
      "max            NaN      38.842000       15.003000      NaN\n",
      "============================================================\n",
      "Global Food Prices df\n",
      "           country_id country    locality_id        locality_name  \\\n",
      "count   743914.000000  743914  743914.000000               729965   \n",
      "unique            NaN      74            NaN                  588   \n",
      "top               NaN  Rwanda            NaN  $North/Amajyaruguru   \n",
      "freq              NaN  115037            NaN                28850   \n",
      "mean       929.754832     NaN   17779.426232                  NaN   \n",
      "std       6595.353806     NaN   81345.242217                  NaN   \n",
      "min          1.000000     NaN       0.000000                  NaN   \n",
      "25%        115.000000     NaN    1510.000000                  NaN   \n",
      "50%        170.000000     NaN    2207.000000                  NaN   \n",
      "75%        205.000000     NaN   21969.000000                  NaN   \n",
      "max      70001.000000     NaN  900022.000000                  NaN   \n",
      "\n",
      "               mkt_id          mkt_name  commodity_purchase_id  \\\n",
      "count   743914.000000            743914          743914.000000   \n",
      "unique            NaN              1449                    NaN   \n",
      "top               NaN  National Average                    NaN   \n",
      "freq              NaN             11904                    NaN   \n",
      "mean       885.962341               NaN             161.130914   \n",
      "std        540.492854               NaN             117.826297   \n",
      "min         80.000000               NaN              50.000000   \n",
      "25%        377.000000               NaN              67.000000   \n",
      "50%        912.000000               NaN             110.000000   \n",
      "75%       1134.000000               NaN             233.000000   \n",
      "max       2094.000000               NaN             490.000000   \n",
      "\n",
      "       commodity_purchased    currency_id currency_name    mkt_type_id  \\\n",
      "count               743914  743914.000000        743914  743914.000000   \n",
      "unique                 321            NaN            61            NaN   \n",
      "top                  Maize            NaN           RWF            NaN   \n",
      "freq                 36582            NaN        115037            NaN   \n",
      "mean                   NaN      57.325319           NaN      14.930508   \n",
      "std                    NaN      23.140366           NaN       0.277872   \n",
      "min                    NaN      22.000000           NaN      14.000000   \n",
      "25%                    NaN      30.000000           NaN      15.000000   \n",
      "50%                    NaN      63.000000           NaN      15.000000   \n",
      "75%                    NaN      77.000000           NaN      15.000000   \n",
      "max                    NaN      95.000000           NaN      18.000000   \n",
      "\n",
      "       mkt_type  measurement_id measurement_unit          month  \\\n",
      "count    743914   743914.000000           743914  743914.000000   \n",
      "unique        4             NaN               62            NaN   \n",
      "top      Retail             NaN               KG            NaN   \n",
      "freq     688878             NaN           562172            NaN   \n",
      "mean        NaN       10.562171              NaN       6.379772   \n",
      "std         NaN       13.160485              NaN       3.434972   \n",
      "min         NaN        5.000000              NaN       1.000000   \n",
      "25%         NaN        5.000000              NaN       3.000000   \n",
      "50%         NaN        5.000000              NaN       6.000000   \n",
      "75%         NaN        5.000000              NaN       9.000000   \n",
      "max         NaN      100.000000              NaN      12.000000   \n",
      "\n",
      "                 year    price_paid commodity_source  \n",
      "count   743914.000000  7.439140e+05           743914  \n",
      "unique            NaN           NaN              248  \n",
      "top               NaN           NaN          MINAGRI  \n",
      "freq              NaN           NaN           115037  \n",
      "mean      2012.516549  4.196333e+03              NaN  \n",
      "std          3.669519  5.549296e+04              NaN  \n",
      "min       1992.000000  0.000000e+00              NaN  \n",
      "25%       2011.000000  3.000000e+01              NaN  \n",
      "50%       2013.000000  1.750000e+02              NaN  \n",
      "75%       2015.000000  5.000000e+02              NaN  \n",
      "max       2017.000000  5.833333e+06              NaN  \n"
     ]
    }
   ],
   "source": [
    "print(\"Global Temp df\")\n",
    "print(global_temp.describe(include='all'))\n",
    "print(\"=\"*60)\n",
    "print(\"Global Food Prices df\")\n",
    "print(global_food_prices.describe(include='all'))"
   ]
  },
  {
   "cell_type": "markdown",
   "metadata": {},
   "source": [
    "Check how many null values in each column"
   ]
  },
  {
   "cell_type": "code",
   "execution_count": 10,
   "metadata": {},
   "outputs": [
    {
     "name": "stdout",
     "output_type": "stream",
     "text": [
      "Global Temp df\n",
      "full_date             0\n",
      "avg_temp          32651\n",
      "avg_temp_uncty    31912\n",
      "country               0\n",
      "dtype: int64\n",
      "============================================================\n",
      "Global Food Prices df\n",
      "country_id                   0\n",
      "country                      0\n",
      "locality_id                  0\n",
      "locality_name            13949\n",
      "mkt_id                       0\n",
      "mkt_name                     0\n",
      "commodity_purchase_id        0\n",
      "commodity_purchased          0\n",
      "currency_id                  0\n",
      "currency_name                0\n",
      "mkt_type_id                  0\n",
      "mkt_type                     0\n",
      "measurement_id               0\n",
      "measurement_unit             0\n",
      "month                        0\n",
      "year                         0\n",
      "price_paid                   0\n",
      "commodity_source             0\n",
      "dtype: int64\n"
     ]
    }
   ],
   "source": [
    "print(\"Global Temp df\")\n",
    "print(global_temp.isnull().sum())\n",
    "print(\"=\"*60)\n",
    "print(\"Global Food Prices df\")\n",
    "print(global_food_prices.isnull().sum())"
   ]
  },
  {
   "cell_type": "markdown",
   "metadata": {},
   "source": []
  }
 ],
 "metadata": {
  "kernelspec": {
   "display_name": "Python 3",
   "language": "python",
   "name": "python3"
  },
  "language_info": {
   "codemirror_mode": {
    "name": "ipython",
    "version": 3
   },
   "file_extension": ".py",
   "mimetype": "text/x-python",
   "name": "python",
   "nbconvert_exporter": "python",
   "pygments_lexer": "ipython3",
   "version": "3.7.0"
  }
 },
 "nbformat": 4,
 "nbformat_minor": 2
}
